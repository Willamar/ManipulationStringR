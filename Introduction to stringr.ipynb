{
 "cells": [
  {
   "cell_type": "code",
   "execution_count": 1,
   "metadata": {},
   "outputs": [],
   "source": [
    "library(stringr)"
   ]
  },
  {
   "cell_type": "code",
   "execution_count": 2,
   "metadata": {},
   "outputs": [
    {
     "data": {
      "text/html": [
       "<ol class=list-inline>\n",
       "\t<li>'cheese'</li>\n",
       "\t<li>'NA'</li>\n",
       "\t<li>'and NA'</li>\n",
       "</ol>\n"
      ],
      "text/latex": [
       "\\begin{enumerate*}\n",
       "\\item 'cheese'\n",
       "\\item 'NA'\n",
       "\\item 'and NA'\n",
       "\\end{enumerate*}\n"
      ],
      "text/markdown": [
       "1. 'cheese'\n",
       "2. 'NA'\n",
       "3. 'and NA'\n",
       "\n",
       "\n"
      ],
      "text/plain": [
       "[1] \"cheese\" \"NA\"     \"and NA\""
      ]
     },
     "metadata": {},
     "output_type": "display_data"
    },
    {
     "data": {
      "text/html": [
       "<ol class=list-inline>\n",
       "\t<li>'cheese'</li>\n",
       "\t<li>NA</li>\n",
       "\t<li>NA</li>\n",
       "</ol>\n"
      ],
      "text/latex": [
       "\\begin{enumerate*}\n",
       "\\item 'cheese'\n",
       "\\item NA\n",
       "\\item NA\n",
       "\\end{enumerate*}\n"
      ],
      "text/markdown": [
       "1. 'cheese'\n",
       "2. NA\n",
       "3. NA\n",
       "\n",
       "\n"
      ],
      "text/plain": [
       "[1] \"cheese\" NA       NA      "
      ]
     },
     "metadata": {},
     "output_type": "display_data"
    },
    {
     "data": {
      "text/html": [
       "'cheese, NA, and NA'"
      ],
      "text/latex": [
       "'cheese, NA, and NA'"
      ],
      "text/markdown": [
       "'cheese, NA, and NA'"
      ],
      "text/plain": [
       "[1] \"cheese, NA, and NA\""
      ]
     },
     "metadata": {},
     "output_type": "display_data"
    },
    {
     "data": {
      "text/html": [
       "NA"
      ],
      "text/latex": [
       "NA"
      ],
      "text/markdown": [
       "NA"
      ],
      "text/plain": [
       "[1] NA"
      ]
     },
     "metadata": {},
     "output_type": "display_data"
    }
   ],
   "source": [
    "library(stringr)\n",
    "\n",
    "my_toppings <- c(\"cheese\", NA, NA)\n",
    "my_toppings_and <- paste(c(\"\", \"\", \"and \"), my_toppings, sep = \"\")\n",
    "\n",
    "# Print my_toppings_and\n",
    "my_toppings_and\n",
    "\n",
    "# Use str_c() instead of paste(): my_toppings_str\n",
    "my_toppings_str <- str_c(c(\"\", \"\", \"and \"), my_toppings)\n",
    "\n",
    "# Print my_toppings_str\n",
    "my_toppings_str\n",
    "\n",
    "# paste() my_toppings_and with collapse = \", \"\n",
    "paste(my_toppings_and, collapse=\", \")\n",
    "\n",
    "# str_c() my_toppings_str with collapse = \", \"\n",
    "str_c(my_toppings_str, collapse=\", \")\n"
   ]
  },
  {
   "cell_type": "code",
   "execution_count": null,
   "metadata": {},
   "outputs": [],
   "source": [
    "    "
   ]
  }
 ],
 "metadata": {
  "kernelspec": {
   "display_name": "R",
   "language": "R",
   "name": "ir"
  },
  "language_info": {
   "codemirror_mode": "r",
   "file_extension": ".r",
   "mimetype": "text/x-r-source",
   "name": "R",
   "pygments_lexer": "r",
   "version": "3.5.1"
  }
 },
 "nbformat": 4,
 "nbformat_minor": 2
}
